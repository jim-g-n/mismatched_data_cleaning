{
 "cells": [
  {
   "cell_type": "markdown",
   "id": "f6fdb363",
   "metadata": {},
   "source": [
    "# Airbnb Datasets Creation\n",
    "\n",
    "This notebook creates the various cleaned train and test datasets from the Airbnb dataset."
   ]
  },
  {
   "cell_type": "code",
   "execution_count": null,
   "id": "96bb6dd6",
   "metadata": {},
   "outputs": [],
   "source": [
    "import pandas as pd\n",
    "import itertools\n",
    "import numpy as np\n",
    "from cleaner import ErrorCleaner\n",
    "from sklearn.model_selection import train_test_split\n",
    "\n",
    "import warnings\n",
    "warnings.filterwarnings(\"ignore\", category=FutureWarning)"
   ]
  },
  {
   "cell_type": "code",
   "execution_count": null,
   "id": "e2c4c103",
   "metadata": {},
   "outputs": [],
   "source": [
    "mv_repair_methods = ['delete', 'mean-mode', 'median-mode', 'mode-mode', 'mean-dummy', 'median-dummy', 'mode-dummy']\n",
    "\n",
    "outlier_detection_methods = ['none', 'SD', 'IQR']\n",
    "outlier_repair_methods = ['mean', 'median', 'mode']\n",
    "\n",
    "duplicate_repair_methods = ['NA', 'key_val']\n",
    "\n",
    "training_list = [mv_repair_methods, outlier_detection_methods, outlier_repair_methods, duplicate_repair_methods]\n",
    "training_combinations = [p for p in itertools.product(*training_list)]\n",
    "\n",
    "cleaning_setups_df = pd.DataFrame(training_combinations, columns =['mv_repair', 'outlier_detection', 'outlier_repair', \n",
    "                'duplicate_repair'])\n",
    "\n",
    "cleaning_setups_df['outlier_repair'].mask(cleaning_setups_df['outlier_detection'] == 'none', 'NA', inplace=True)\n",
    "\n",
    "cleaning_setups_df = cleaning_setups_df.drop_duplicates()"
   ]
  },
  {
   "cell_type": "code",
   "execution_count": null,
   "id": "4b0d4bec",
   "metadata": {},
   "outputs": [],
   "source": [
    "cleaning_setups_df = cleaning_setups_df.reset_index()\n",
    "cleaning_setups_df = cleaning_setups_df.drop(['index'], axis = 1)"
   ]
  },
  {
   "cell_type": "code",
   "execution_count": null,
   "id": "bf1bf000",
   "metadata": {},
   "outputs": [],
   "source": [
    "cleaning_setups_df"
   ]
  },
  {
   "cell_type": "code",
   "execution_count": null,
   "id": "7cfbdc09",
   "metadata": {},
   "outputs": [],
   "source": [
    "airbnb_data = pd.read_csv('airbnb_raw.csv')"
   ]
  },
  {
   "cell_type": "code",
   "execution_count": null,
   "id": "c7ec3d87",
   "metadata": {},
   "outputs": [],
   "source": [
    "np.random.seed(0)\n",
    "for i in range(20):    \n",
    "    target = airbnb_data[\"Price\"].copy()\n",
    "    features = airbnb_data.drop(\"Price\", axis = 1).copy()\n",
    "    \n",
    "    X_train, X_test, Y_train, Y_test = train_test_split(features, target, test_size = 0.3, random_state = i)\n",
    "\n",
    "    XY_train = X_train.copy()\n",
    "    XY_train['Price'] = Y_train\n",
    "\n",
    "    XY_test = X_test.copy()\n",
    "    XY_test['Price'] = Y_test\n",
    "    \n",
    "    XY_train.to_csv('airbnb_dirty_train_set_' + str(i) + '.csv', index = False)\n",
    "    XY_test.to_csv('airbnb_dirty_test_set_' + str(i) + '.csv', index = False)\n",
    "    \n",
    "    cleaned_train_df = pd.DataFrame(columns = list(cleaning_setups_df.columns) + ['dataset'])\n",
    "    cleaned_test_df = pd.DataFrame(columns = list(cleaning_setups_df.columns) + ['dataset'])\n",
    "    \n",
    "    for j in range(len(cleaning_setups_df)):\n",
    "        cleaning_setup = cleaning_setups_df.loc[j]\n",
    "    \n",
    "        error_cleaner = ErrorCleaner(XY_train, cleaning_setup)\n",
    "        cleaned_dataset = error_cleaner.clean_all(['latitude', 'longitude'])\n",
    "\n",
    "        cleaned_df = dict(cleaning_setup)\n",
    "        cleaned_df['dataset'] = cleaned_dataset\n",
    "\n",
    "        cleaned_train_df = cleaned_train_df.append(cleaned_df, ignore_index = True)\n",
    "        \n",
    "        error_cleaner = ErrorCleaner(XY_test, cleaning_setup)\n",
    "        cleaned_dataset = error_cleaner.clean_all(['latitude', 'longitude'])\n",
    "\n",
    "        cleaned_df = dict(cleaning_setup)\n",
    "        cleaned_df['dataset'] = cleaned_dataset\n",
    "\n",
    "        cleaned_test_df = cleaned_test_df.append(cleaned_df, ignore_index = True)\n",
    "        \n",
    "    cleaned_train_df.to_pickle('airbnb_cleaned_train_df_' + str(i) + '.pkl')\n",
    "    cleaned_test_df.to_pickle('airbnb_cleaned_test_df_' + str(i) + '.pkl')"
   ]
  }
 ],
 "metadata": {
  "kernelspec": {
   "display_name": "Python 3 (ipykernel)",
   "language": "python",
   "name": "python3"
  },
  "language_info": {
   "codemirror_mode": {
    "name": "ipython",
    "version": 3
   },
   "file_extension": ".py",
   "mimetype": "text/x-python",
   "name": "python",
   "nbconvert_exporter": "python",
   "pygments_lexer": "ipython3",
   "version": "3.8.8"
  }
 },
 "nbformat": 4,
 "nbformat_minor": 5
}
