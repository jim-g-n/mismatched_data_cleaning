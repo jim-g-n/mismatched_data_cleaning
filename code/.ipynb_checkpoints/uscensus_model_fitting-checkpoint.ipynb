{
 "cells": [
  {
   "cell_type": "markdown",
   "id": "257fa051",
   "metadata": {},
   "source": [
    "# USCensus Model Fitting\n",
    "\n",
    "This notebook fits the various regression models based on the different cleaned train sets of the USCensus data. Note: it is likely not possible to run this locally. This can instead be done by dividing tasks on a clusters."
   ]
  },
  {
   "cell_type": "code",
   "execution_count": null,
   "id": "54e27ab1",
   "metadata": {},
   "outputs": [],
   "source": [
    "import numpy as np\n",
    "import pandas as pd\n",
    "from sklearn.metrics import r2_score\n",
    "from scipy import stats\n",
    "from sklearn.utils import parallel_backend\n",
    "from sklearn.model_selection import GridSearchCV\n",
    "import multiprocessing\n",
    "\n",
    "from sklearn.ensemble import RandomForestRegressor\n",
    "from xgboost import XGBRegressor\n",
    "from sklearn.ensemble import GradientBoostingRegressor\n",
    "\n",
    "import joblib\n",
    "\n",
    "folds = 5\n",
    "score_calc = 'neg_mean_squared_error'\n",
    "n_jobs = multiprocessing.cpu_count()\n",
    "\n",
    "rfr_param_grid = {'min_samples_split' : [60, 70, 80], 'n_estimators' : [350, 400, 450], 'random_state': [5] }\n",
    "\n",
    "xgb_param_grid = {'learning_rate' : [0.04,0.05,0.06], 'n_estimators' : [700,800,900], 'random_state': [5],\n",
    "              'max_depth' : [3,4,5]}\n",
    "\n",
    "gbr_param_grid = {'min_samples_split' : [8, 10, 12], 'n_estimators' : [650, 700, 750], 'random_state': [5] }\n",
    "\n",
    "def fit_all_models(features, target):\n",
    " \n",
    "    grid_rfr = GridSearchCV(RandomForestRegressor(), rfr_param_grid, cv = folds, refit=True, verbose = 0, scoring = score_calc, n_jobs = n_jobs)\n",
    "    grid_rfr.fit(features, target)\n",
    "\n",
    "    grid_xgb = GridSearchCV(XGBRegressor(), xgb_param_grid, cv = folds, refit=True, verbose = 0, scoring = score_calc, n_jobs = -1)\n",
    "    with parallel_backend('threading'):\n",
    "        grid_xgb.fit(features, target)\n",
    " \n",
    "    grid_gbr = GridSearchCV(GradientBoostingRegressor(), gbr_param_grid, cv = folds, refit=True, verbose = 0, scoring = score_calc, n_jobs = n_jobs)\n",
    "    grid_gbr.fit(features, target)\n",
    "\n",
    "    return grid_rfr, grid_xgb, grid_gbr"
   ]
  },
  {
   "cell_type": "code",
   "execution_count": null,
   "id": "d61f82ea",
   "metadata": {},
   "outputs": [],
   "source": [
    "for i in range(20):\n",
    "    all_training_data = pd.read_pickle('uscensus_cleaned_train_df_' + str(i) + '.pkl')\n",
    "    \n",
    "    func_fitted_models = dict()\n",
    "    \n",
    "    for j in range(len(all_training_data)):\n",
    "        \n",
    "        train_data = all_training_data.loc[j].dataset\n",
    "        \n",
    "        train_data = train_data.drop('Education-num', axis = 1)\n",
    "\n",
    "        processed_data = pd.get_dummies(train_data)\n",
    "        processed_data = processed_data.rename(columns={\"Income_<=50k\": \"Income_less_50k\", \"Income_>50k\": \"Income_greater_50k\"})\n",
    "\n",
    "        target = processed_data[\"Age\"]\n",
    "        features = processed_data.drop(\"Age\", axis = 1)\n",
    "\n",
    "        rfr, xgb, gbr = fit_all_models(features, target)\n",
    "\n",
    "        func_fitted_models['uscensus_rfr_' + str(i) + '_' + str(j)] = rfr\n",
    "        func_fitted_models['uscensus_xgb_' + str(i) + '_' + str(j)] = xgb\n",
    "        func_fitted_models['uscensus_gbr_' + str(i) + '_' + str(j)] = gbr\n",
    "    \n",
    "    for model in func_fitted_models:\n",
    "        fitted_model = func_fitted_models[model]\n",
    "        joblib.dump(fitted_model, model+'_compressed.joblib', compress=3)"
   ]
  }
 ],
 "metadata": {
  "kernelspec": {
   "display_name": "Python 3 (ipykernel)",
   "language": "python",
   "name": "python3"
  },
  "language_info": {
   "codemirror_mode": {
    "name": "ipython",
    "version": 3
   },
   "file_extension": ".py",
   "mimetype": "text/x-python",
   "name": "python",
   "nbconvert_exporter": "python",
   "pygments_lexer": "ipython3",
   "version": "3.8.8"
  }
 },
 "nbformat": 4,
 "nbformat_minor": 5
}
