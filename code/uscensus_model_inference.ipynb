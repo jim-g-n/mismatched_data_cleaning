{
 "cells": [
  {
   "cell_type": "markdown",
   "id": "a143239b",
   "metadata": {},
   "source": [
    "# USCensus Model Inference\n",
    "\n",
    "This notebook performs inference of the various fitted RFR models on the different cleaned versions of a test set for train-test split number 0 on USCensus data. The results for different train-test splits can be calculated by changing the 'train_test_split_num' variable.\n",
    "\n",
    "To test other model types, 'rfr' can be changed to 'xgb' or 'gbr'."
   ]
  },
  {
   "cell_type": "code",
   "execution_count": null,
   "id": "b06dd930",
   "metadata": {},
   "outputs": [],
   "source": [
    "import warnings\n",
    "import numpy as np \n",
    "import pandas as pd\n",
    "from sklearn.metrics import r2_score\n",
    "import joblib\n",
    "from joblib import Parallel, delayed\n",
    "\n",
    "warnings.filterwarnings(\"ignore\", category=FutureWarning)"
   ]
  },
  {
   "cell_type": "code",
   "execution_count": null,
   "id": "67218df5",
   "metadata": {},
   "outputs": [],
   "source": [
    "train_test_split_num = 0\n",
    "\n",
    "testing_datasets = pd.read_pickle('uscensus_cleaned_test_df_' + str(train_test_split_num) + '.pkl')\n",
    "\n",
    "compressed_models = dict()\n",
    "\n",
    "for i in range(len(testing_datasets)):\n",
    "    loaded_rfr = joblib.load('uscensus_rfr_' + str(train_test_split_num) + '_' + str(i) + '_compressed.joblib')\n",
    "    compressed_models['uscensus_rfr_' + str(train_test_split_num) + '_' + str(i)] = loaded_rfr\n",
    "\n",
    "def process_dataset(i, testing_data, compressed_models):\n",
    "    new_model_accuracy = pd.DataFrame(columns=['model', 'test_cleaning', 'train_cleaning', 'pred_vals', 'true_vals', 'score'])\n",
    "\n",
    "    XY_test_pro = testing_data.dataset\n",
    "\n",
    "    XY_test_pro = XY_test_pro.drop('Education-num', axis = 1)\n",
    "  \n",
    "    Y_test_pro = XY_test_pro[\"Age\"]\n",
    "    X_test_pro = XY_test_pro.drop('Age', axis=1)\n",
    "\n",
    "    X_test_pro = pd.get_dummies(X_test_pro)\n",
    "    X_test_pro = X_test_pro.rename(columns={\"Income_<=50k\": \"Income_less_50k\", \"Income_>50k\": \"Income_greater_50k\"})\n",
    "\n",
    "    for model_name in compressed_models:\n",
    "        model = compressed_models[model_name]\n",
    "\n",
    "        cols_when_model_builds = model.feature_names_in_\n",
    "\n",
    "        X_test_upd = X_test_pro.copy()\n",
    "\n",
    "        missing_features = pd.DataFrame(0, index=X_test_upd.index,\n",
    "                                        columns=[x for x in model.feature_names_in_ if x not in X_test_upd.columns])\n",
    "        X_test_upd = pd.concat([X_test_upd, missing_features], axis=1)\n",
    "        \n",
    "        X_test_upd = X_test_upd[cols_when_model_builds]\n",
    "\n",
    "        pred_model = model.predict(X_test_upd)\n",
    "        new_model_accuracy = new_model_accuracy.append({'model': model_name, 'test_cleaning': i, 'train_cleaning': model_name[model_name.rfind('_')+1:],\n",
    "                                                        'pred_vals': pred_model.round(3),\n",
    "                                                         'true_vals': Y_test_pro.values.round(3), 'score': r2_score(Y_test_pro, pred_model)}\n",
    "                                                        , ignore_index=True)\n",
    "\n",
    "    return new_model_accuracy"
   ]
  },
  {
   "cell_type": "code",
   "execution_count": null,
   "id": "b9f2ec4c",
   "metadata": {},
   "outputs": [],
   "source": [
    "# Parallel processing of testing datasets\n",
    "num_cores = joblib.parallel.cpu_count()\n",
    "results = Parallel(n_jobs=num_cores)(\n",
    "    delayed(process_dataset)(i, testing_datasets.loc[i], compressed_models) for i in range(len(testing_datasets)))\n",
    "\n",
    "# Combine the results into a single DataFrame\n",
    "final_result = pd.concat(results, ignore_index=True)\n",
    "\n",
    "# Save the final result to pickle file\n",
    "final_result.to_pickle('uscensus_rfr_' + str(train_test_split_num) + '_results.pkl')"
   ]
  }
 ],
 "metadata": {
  "kernelspec": {
   "display_name": "Python 3 (ipykernel)",
   "language": "python",
   "name": "python3"
  },
  "language_info": {
   "codemirror_mode": {
    "name": "ipython",
    "version": 3
   },
   "file_extension": ".py",
   "mimetype": "text/x-python",
   "name": "python",
   "nbconvert_exporter": "python",
   "pygments_lexer": "ipython3",
   "version": "3.8.8"
  }
 },
 "nbformat": 4,
 "nbformat_minor": 5
}
